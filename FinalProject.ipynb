{
 "cells": [
  {
   "cell_type": "markdown",
   "metadata": {},
   "source": [
    "# Wisconsin Breast Cancer EDA"
   ]
  },
  {
   "cell_type": "markdown",
   "metadata": {},
   "source": [
    "### Team Members:\n",
    "* Frederick, Chris (Project Leader)\n",
    "* Pyakurel, Ashmit\n",
    "* Dutta, Debashish "
   ]
  },
  {
   "cell_type": "markdown",
   "metadata": {},
   "source": [
    "### Import the libraries used in this analysis"
   ]
  },
  {
   "cell_type": "code",
   "execution_count": 1,
   "metadata": {},
   "outputs": [],
   "source": [
    "import numpy as np\n",
    "import pandas as pd\n",
    "import matplotlib.pyplot as plt\n",
    "\n",
    "# Select a style, it will affect all subsequent plots.\n",
    "# This also gives us the non-default colors\n",
    "plt.style.use('fivethirtyeight')"
   ]
  },
  {
   "cell_type": "markdown",
   "metadata": {},
   "source": [
    "### Let's load in our dataset\n",
    "As we load our dataset, we will also rename our columns based on the data dictionary provided in the directions."
   ]
  },
  {
   "cell_type": "code",
   "execution_count": 2,
   "metadata": {},
   "outputs": [],
   "source": [
    "col_names = ['sample_code_number', 'clump_thickness','uniformity_of_cell_size','uniformity_of_cell_shape','marginal_adhesion','single_epithelial_cell_size','bare_nuclei','bland_chromatin','normal_nuclei','mitoses','class']\n",
    "df = pd.read_csv('data-sets/Breast-Cancer-Wisconsin.csv', skiprows=1, names=col_names)"
   ]
  },
  {
   "cell_type": "markdown",
   "metadata": {},
   "source": [
    "### Let's check for any null values\n",
    "As you can see from below, our dataset contains 699 rows of data, and all 699 columns contain 699 non-null values.  This means we don't have any nulls to handle."
   ]
  },
  {
   "cell_type": "code",
   "execution_count": 3,
   "metadata": {},
   "outputs": [
    {
     "name": "stdout",
     "output_type": "stream",
     "text": [
      "<class 'pandas.core.frame.DataFrame'>\n",
      "RangeIndex: 699 entries, 0 to 698\n",
      "Data columns (total 11 columns):\n",
      "sample_code_number             699 non-null int64\n",
      "clump_thickness                699 non-null int64\n",
      "uniformity_of_cell_size        699 non-null int64\n",
      "uniformity_of_cell_shape       699 non-null int64\n",
      "marginal_adhesion              699 non-null int64\n",
      "single_epithelial_cell_size    699 non-null int64\n",
      "bare_nuclei                    699 non-null object\n",
      "bland_chromatin                699 non-null int64\n",
      "normal_nuclei                  699 non-null int64\n",
      "mitoses                        699 non-null int64\n",
      "class                          699 non-null int64\n",
      "dtypes: int64(10), object(1)\n",
      "memory usage: 60.1+ KB\n"
     ]
    }
   ],
   "source": [
    "df.info()"
   ]
  },
  {
   "cell_type": "markdown",
   "metadata": {},
   "source": [
    "### Do we have \"placeholder\" values we need to replace with NaN?\n",
    "By looking at df.info() above I can see that the column, bare-nuclei was returned as a string.  This is a red flag, because this column should only contain integers between 1 and 10.\n",
    "\n",
    "Let's check what values we have for bare_nuclei"
   ]
  },
  {
   "cell_type": "code",
   "execution_count": 4,
   "metadata": {},
   "outputs": [
    {
     "name": "stdout",
     "output_type": "stream",
     "text": [
      "We have 16 ?'s that need to be replaced!\n"
     ]
    }
   ],
   "source": [
    "df.bare_nuclei.value_counts()\n",
    "print(\"We have\", (df.bare_nuclei == \"?\").sum(), \"?'s that need to be replaced!\")"
   ]
  },
  {
   "cell_type": "code",
   "execution_count": 5,
   "metadata": {},
   "outputs": [],
   "source": [
    "# We will replace ? with '0' so that we can convert the column to a integer using astype()\n",
    "df.bare_nuclei.replace('?', '0', inplace=True)\n",
    "df.bare_nuclei = df.bare_nuclei.astype(dtype=int)"
   ]
  },
  {
   "cell_type": "code",
   "execution_count": 6,
   "metadata": {},
   "outputs": [
    {
     "data": {
      "text/plain": [
       "1     402\n",
       "10    132\n",
       "5      30\n",
       "2      30\n",
       "3      28\n",
       "8      21\n",
       "4      19\n",
       "0      16\n",
       "9       9\n",
       "7       8\n",
       "6       4\n",
       "Name: bare_nuclei, dtype: int64"
      ]
     },
     "execution_count": 6,
     "metadata": {},
     "output_type": "execute_result"
    }
   ],
   "source": [
    "df.bare_nuclei.value_counts()"
   ]
  },
  {
   "cell_type": "markdown",
   "metadata": {},
   "source": [
    "Now we will double check df.info() to make sure are our variables are of the desired type."
   ]
  },
  {
   "cell_type": "code",
   "execution_count": 7,
   "metadata": {},
   "outputs": [
    {
     "name": "stdout",
     "output_type": "stream",
     "text": [
      "<class 'pandas.core.frame.DataFrame'>\n",
      "RangeIndex: 699 entries, 0 to 698\n",
      "Data columns (total 11 columns):\n",
      "sample_code_number             699 non-null int64\n",
      "clump_thickness                699 non-null int64\n",
      "uniformity_of_cell_size        699 non-null int64\n",
      "uniformity_of_cell_shape       699 non-null int64\n",
      "marginal_adhesion              699 non-null int64\n",
      "single_epithelial_cell_size    699 non-null int64\n",
      "bare_nuclei                    699 non-null int64\n",
      "bland_chromatin                699 non-null int64\n",
      "normal_nuclei                  699 non-null int64\n",
      "mitoses                        699 non-null int64\n",
      "class                          699 non-null int64\n",
      "dtypes: int64(11)\n",
      "memory usage: 60.1 KB\n"
     ]
    }
   ],
   "source": [
    "df.info()"
   ]
  },
  {
   "cell_type": "markdown",
   "metadata": {},
   "source": [
    "### Now let's impute the value for our missing bare_nuclei values."
   ]
  },
  {
   "cell_type": "code",
   "execution_count": 8,
   "metadata": {},
   "outputs": [
    {
     "name": "stdout",
     "output_type": "stream",
     "text": [
      "<class 'pandas.core.frame.DataFrame'>\n",
      "RangeIndex: 699 entries, 0 to 698\n",
      "Data columns (total 11 columns):\n",
      "sample_code_number             699 non-null int64\n",
      "clump_thickness                699 non-null int64\n",
      "uniformity_of_cell_size        699 non-null int64\n",
      "uniformity_of_cell_shape       699 non-null int64\n",
      "marginal_adhesion              699 non-null int64\n",
      "single_epithelial_cell_size    699 non-null int64\n",
      "bare_nuclei                    683 non-null float64\n",
      "bland_chromatin                699 non-null int64\n",
      "normal_nuclei                  699 non-null int64\n",
      "mitoses                        699 non-null int64\n",
      "class                          699 non-null int64\n",
      "dtypes: float64(1), int64(10)\n",
      "memory usage: 60.1 KB\n"
     ]
    }
   ],
   "source": [
    "# convert our 0 placeholder back to NaN so it does \n",
    "# not mess with our median function\n",
    "df.bare_nuclei.replace(0, np.NaN, inplace=True)\n",
    "df.info()\n"
   ]
  },
  {
   "cell_type": "code",
   "execution_count": 9,
   "metadata": {},
   "outputs": [
    {
     "name": "stdout",
     "output_type": "stream",
     "text": [
      "We will replace the NaN with: 3\n",
      "<class 'pandas.core.frame.DataFrame'>\n",
      "RangeIndex: 699 entries, 0 to 698\n",
      "Data columns (total 11 columns):\n",
      "sample_code_number             699 non-null int64\n",
      "clump_thickness                699 non-null int64\n",
      "uniformity_of_cell_size        699 non-null int64\n",
      "uniformity_of_cell_shape       699 non-null int64\n",
      "marginal_adhesion              699 non-null int64\n",
      "single_epithelial_cell_size    699 non-null int64\n",
      "bare_nuclei                    699 non-null int64\n",
      "bland_chromatin                699 non-null int64\n",
      "normal_nuclei                  699 non-null int64\n",
      "mitoses                        699 non-null int64\n",
      "class                          699 non-null int64\n",
      "dtypes: int64(11)\n",
      "memory usage: 60.1 KB\n"
     ]
    }
   ],
   "source": [
    "# We will replace with the mean, however, based on the distribution of this column the median might have been better.\n",
    "print(\"We will replace the NaN with:\", int(df.bare_nuclei.mean()))\n",
    "df.bare_nuclei.fillna(value=df.bare_nuclei.mean(), inplace=True)\n",
    "df.bare_nuclei = df.bare_nuclei.astype(dtype=int)\n",
    "df.info()"
   ]
  },
  {
   "cell_type": "markdown",
   "metadata": {},
   "source": [
    "### Now let's display some summary statstics"
   ]
  },
  {
   "cell_type": "code",
   "execution_count": 10,
   "metadata": {},
   "outputs": [
    {
     "data": {
      "text/html": [
       "<div>\n",
       "<style scoped>\n",
       "    .dataframe tbody tr th:only-of-type {\n",
       "        vertical-align: middle;\n",
       "    }\n",
       "\n",
       "    .dataframe tbody tr th {\n",
       "        vertical-align: top;\n",
       "    }\n",
       "\n",
       "    .dataframe thead th {\n",
       "        text-align: right;\n",
       "    }\n",
       "</style>\n",
       "<table border=\"1\" class=\"dataframe\">\n",
       "  <thead>\n",
       "    <tr style=\"text-align: right;\">\n",
       "      <th></th>\n",
       "      <th>sample_code_number</th>\n",
       "      <th>clump_thickness</th>\n",
       "      <th>uniformity_of_cell_size</th>\n",
       "      <th>uniformity_of_cell_shape</th>\n",
       "      <th>marginal_adhesion</th>\n",
       "      <th>single_epithelial_cell_size</th>\n",
       "      <th>bare_nuclei</th>\n",
       "      <th>bland_chromatin</th>\n",
       "      <th>normal_nuclei</th>\n",
       "      <th>mitoses</th>\n",
       "      <th>class</th>\n",
       "    </tr>\n",
       "  </thead>\n",
       "  <tbody>\n",
       "    <tr>\n",
       "      <th>count</th>\n",
       "      <td>6.990000e+02</td>\n",
       "      <td>699.000000</td>\n",
       "      <td>699.000000</td>\n",
       "      <td>699.000000</td>\n",
       "      <td>699.000000</td>\n",
       "      <td>699.000000</td>\n",
       "      <td>699.000000</td>\n",
       "      <td>699.000000</td>\n",
       "      <td>699.000000</td>\n",
       "      <td>699.000000</td>\n",
       "      <td>699.000000</td>\n",
       "    </tr>\n",
       "    <tr>\n",
       "      <th>mean</th>\n",
       "      <td>1.071704e+06</td>\n",
       "      <td>4.417740</td>\n",
       "      <td>3.134478</td>\n",
       "      <td>3.207439</td>\n",
       "      <td>2.806867</td>\n",
       "      <td>3.216023</td>\n",
       "      <td>3.532189</td>\n",
       "      <td>3.437768</td>\n",
       "      <td>2.866953</td>\n",
       "      <td>1.589413</td>\n",
       "      <td>2.689557</td>\n",
       "    </tr>\n",
       "    <tr>\n",
       "      <th>std</th>\n",
       "      <td>6.170957e+05</td>\n",
       "      <td>2.815741</td>\n",
       "      <td>3.051459</td>\n",
       "      <td>2.971913</td>\n",
       "      <td>2.855379</td>\n",
       "      <td>2.214300</td>\n",
       "      <td>3.602774</td>\n",
       "      <td>2.438364</td>\n",
       "      <td>3.053634</td>\n",
       "      <td>1.715078</td>\n",
       "      <td>0.951273</td>\n",
       "    </tr>\n",
       "    <tr>\n",
       "      <th>min</th>\n",
       "      <td>6.163400e+04</td>\n",
       "      <td>1.000000</td>\n",
       "      <td>1.000000</td>\n",
       "      <td>1.000000</td>\n",
       "      <td>1.000000</td>\n",
       "      <td>1.000000</td>\n",
       "      <td>1.000000</td>\n",
       "      <td>1.000000</td>\n",
       "      <td>1.000000</td>\n",
       "      <td>1.000000</td>\n",
       "      <td>2.000000</td>\n",
       "    </tr>\n",
       "    <tr>\n",
       "      <th>25%</th>\n",
       "      <td>8.706885e+05</td>\n",
       "      <td>2.000000</td>\n",
       "      <td>1.000000</td>\n",
       "      <td>1.000000</td>\n",
       "      <td>1.000000</td>\n",
       "      <td>2.000000</td>\n",
       "      <td>1.000000</td>\n",
       "      <td>2.000000</td>\n",
       "      <td>1.000000</td>\n",
       "      <td>1.000000</td>\n",
       "      <td>2.000000</td>\n",
       "    </tr>\n",
       "    <tr>\n",
       "      <th>50%</th>\n",
       "      <td>1.171710e+06</td>\n",
       "      <td>4.000000</td>\n",
       "      <td>1.000000</td>\n",
       "      <td>1.000000</td>\n",
       "      <td>1.000000</td>\n",
       "      <td>2.000000</td>\n",
       "      <td>1.000000</td>\n",
       "      <td>3.000000</td>\n",
       "      <td>1.000000</td>\n",
       "      <td>1.000000</td>\n",
       "      <td>2.000000</td>\n",
       "    </tr>\n",
       "    <tr>\n",
       "      <th>75%</th>\n",
       "      <td>1.238298e+06</td>\n",
       "      <td>6.000000</td>\n",
       "      <td>5.000000</td>\n",
       "      <td>5.000000</td>\n",
       "      <td>4.000000</td>\n",
       "      <td>4.000000</td>\n",
       "      <td>5.000000</td>\n",
       "      <td>5.000000</td>\n",
       "      <td>4.000000</td>\n",
       "      <td>1.000000</td>\n",
       "      <td>4.000000</td>\n",
       "    </tr>\n",
       "    <tr>\n",
       "      <th>max</th>\n",
       "      <td>1.345435e+07</td>\n",
       "      <td>10.000000</td>\n",
       "      <td>10.000000</td>\n",
       "      <td>10.000000</td>\n",
       "      <td>10.000000</td>\n",
       "      <td>10.000000</td>\n",
       "      <td>10.000000</td>\n",
       "      <td>10.000000</td>\n",
       "      <td>10.000000</td>\n",
       "      <td>10.000000</td>\n",
       "      <td>4.000000</td>\n",
       "    </tr>\n",
       "  </tbody>\n",
       "</table>\n",
       "</div>"
      ],
      "text/plain": [
       "       sample_code_number  clump_thickness  uniformity_of_cell_size  \\\n",
       "count        6.990000e+02       699.000000               699.000000   \n",
       "mean         1.071704e+06         4.417740                 3.134478   \n",
       "std          6.170957e+05         2.815741                 3.051459   \n",
       "min          6.163400e+04         1.000000                 1.000000   \n",
       "25%          8.706885e+05         2.000000                 1.000000   \n",
       "50%          1.171710e+06         4.000000                 1.000000   \n",
       "75%          1.238298e+06         6.000000                 5.000000   \n",
       "max          1.345435e+07        10.000000                10.000000   \n",
       "\n",
       "       uniformity_of_cell_shape  marginal_adhesion  \\\n",
       "count                699.000000         699.000000   \n",
       "mean                   3.207439           2.806867   \n",
       "std                    2.971913           2.855379   \n",
       "min                    1.000000           1.000000   \n",
       "25%                    1.000000           1.000000   \n",
       "50%                    1.000000           1.000000   \n",
       "75%                    5.000000           4.000000   \n",
       "max                   10.000000          10.000000   \n",
       "\n",
       "       single_epithelial_cell_size  bare_nuclei  bland_chromatin  \\\n",
       "count                   699.000000   699.000000       699.000000   \n",
       "mean                      3.216023     3.532189         3.437768   \n",
       "std                       2.214300     3.602774         2.438364   \n",
       "min                       1.000000     1.000000         1.000000   \n",
       "25%                       2.000000     1.000000         2.000000   \n",
       "50%                       2.000000     1.000000         3.000000   \n",
       "75%                       4.000000     5.000000         5.000000   \n",
       "max                      10.000000    10.000000        10.000000   \n",
       "\n",
       "       normal_nuclei     mitoses       class  \n",
       "count     699.000000  699.000000  699.000000  \n",
       "mean        2.866953    1.589413    2.689557  \n",
       "std         3.053634    1.715078    0.951273  \n",
       "min         1.000000    1.000000    2.000000  \n",
       "25%         1.000000    1.000000    2.000000  \n",
       "50%         1.000000    1.000000    2.000000  \n",
       "75%         4.000000    1.000000    4.000000  \n",
       "max        10.000000   10.000000    4.000000  "
      ]
     },
     "execution_count": 10,
     "metadata": {},
     "output_type": "execute_result"
    }
   ],
   "source": [
    "df.describe()"
   ]
  },
  {
   "cell_type": "code",
   "execution_count": 11,
   "metadata": {},
   "outputs": [
    {
     "data": {
      "text/plain": [
       "(699, 11)"
      ]
     },
     "execution_count": 11,
     "metadata": {},
     "output_type": "execute_result"
    }
   ],
   "source": [
    "# Confirm the number of columns and rows.\n",
    "df.shape"
   ]
  },
  {
   "cell_type": "markdown",
   "metadata": {},
   "source": [
    "### Next, let's plot histograms for each variable so we can inspect the distributions.\n",
    "Notice that the distribution for class only contains the values 2 and 4."
   ]
  },
  {
   "cell_type": "code",
   "execution_count": 12,
   "metadata": {},
   "outputs": [
    {
     "data": {
      "text/plain": [
       "array([[<matplotlib.axes._subplots.AxesSubplot object at 0x10931c128>,\n",
       "        <matplotlib.axes._subplots.AxesSubplot object at 0x10a7c0860>,\n",
       "        <matplotlib.axes._subplots.AxesSubplot object at 0x10a7e9f60>],\n",
       "       [<matplotlib.axes._subplots.AxesSubplot object at 0x10a81a6a0>,\n",
       "        <matplotlib.axes._subplots.AxesSubplot object at 0x10a83fcf8>,\n",
       "        <matplotlib.axes._subplots.AxesSubplot object at 0x10a83fd30>],\n",
       "       [<matplotlib.axes._subplots.AxesSubplot object at 0x10a899b38>,\n",
       "        <matplotlib.axes._subplots.AxesSubplot object at 0x10a8c8278>,\n",
       "        <matplotlib.axes._subplots.AxesSubplot object at 0x10a8ee978>]],\n",
       "      dtype=object)"
      ]
     },
     "execution_count": 12,
     "metadata": {},
     "output_type": "execute_result"
    },
    {
     "data": {
      "image/png": "[encoded data removed]",
      "text/plain": [
       "<Figure size 1440x1440 with 9 Axes>"
      ]
     },
     "metadata": {},
     "output_type": "display_data"
    }
   ],
   "source": [
    "df.loc[:,\"clump_thickness\": \"mitoses\"].hist(figsize=(20,20), bins=10, grid=False)"
   ]
  },
  {
   "cell_type": "markdown",
   "metadata": {},
   "source": [
    "### Let's inspect Class with a bar chart"
   ]
  },
  {
   "cell_type": "markdown",
   "metadata": {},
   "source": [
    "Draw a bar plot for CLASS - you can use groupby to see counts of  benign and malignant values or you can count values directly using pd.value_counts() function and apply it to plot.bar() function.\n",
    "Draw a scatterplot of any two columns. "
   ]
  },
  {
   "cell_type": "code",
   "execution_count": 19,
   "metadata": {},
   "outputs": [
    {
     "data": {
      "text/plain": [
       "Text(0,0.5,'count')"
      ]
     },
     "execution_count": 19,
     "metadata": {},
     "output_type": "execute_result"
    },
    {
     "data": {
      "image/png": "[encoded data removed]",
      "text/plain": [
       "<Figure size 432x288 with 1 Axes>"
      ]
     },
     "metadata": {},
     "output_type": "display_data"
    }
   ],
   "source": [
    "ax = df['class'].value_counts().plot.bar(title=\"Counts of Benign and Malignant Breast Cancer in Wisconson\")\n",
    "ax.set_xlabel(\"class (2 for benign, 4 for malignant)\", fontsize=12)\n",
    "ax.set_ylabel(\"count\", fontsize=12)"
   ]
  },
  {
   "cell_type": "markdown",
   "metadata": {},
   "source": [
    "### Let's inspect to see if there is a correlation between bland chromatin and clump thickness"
   ]
  },
  {
   "cell_type": "code",
   "execution_count": 25,
   "metadata": {},
   "outputs": [
    {
     "data": {
      "text/plain": [
       "Text(0.5,1,'Correlation between bland chromatin and clump thickness')"
      ]
     },
     "execution_count": 25,
     "metadata": {},
     "output_type": "execute_result"
    },
    {
     "data": {
      "image/png": "[encoded data removed]",
      "text/plain": [
       "<Figure size 432x288 with 1 Axes>"
      ]
     },
     "metadata": {},
     "output_type": "display_data"
    }
   ],
   "source": [
    "figure, ax = plt.subplots()\n",
    "ax.scatter(x=df.bland_chromatin, y=df.clump_thickness, alpha=.3)\n",
    "ax.set_xlabel('bland_chromatin')\n",
    "ax.set_ylabel('clump_thickness')\n",
    "ax.set_title('Correlation between bland chromatin and clump thickness')"
   ]
  },
  {
   "cell_type": "markdown",
   "metadata": {},
   "source": [
    "### Part 1 - Summary"
   ]
  },
  {
   "cell_type": "markdown",
   "metadata": {},
   "source": [
    "After inspecting this data, I wondered which columns I need to normalize and which I need to standardize.  Because normalization makes training less sensitive to the scale of features I looked at that first.  In this case, all of our measures scale between 1 and 10, and thus appear to already be normalized.\n",
    "\n",
    "As for standardization, this adjust our data so that our data is centered around it's mean. If we are doing PCA, the output can only be interpreted correctly when the features have first been centred around their means.  Therefore, I would standardize the following columns:\n",
    "* clump_thickness\n",
    "* uniformity_of_cell_size\n",
    "* uniformity_of_cell_shape\n",
    "* marginal_adhesion\n",
    "* single_epithelial_cell_size\n",
    "* bare_nuclei\n",
    "* bland_chromatin\n",
    "* normal_nuclei\n",
    "* mitoses\n"
   ]
  },
  {
   "cell_type": "code",
   "execution_count": null,
   "metadata": {},
   "outputs": [],
   "source": []
  }
 ],
 "metadata": {
  "kernelspec": {
   "display_name": "Python 3",
   "language": "python",
   "name": "python3"
  },
  "language_info": {
   "codemirror_mode": {
    "name": "ipython",
    "version": 3
   },
   "file_extension": ".py",
   "mimetype": "text/x-python",
   "name": "python",
   "nbconvert_exporter": "python",
   "pygments_lexer": "ipython3",
   "version": "3.6.5"
  }
 },
 "nbformat": 4,
 "nbformat_minor": 2
}
